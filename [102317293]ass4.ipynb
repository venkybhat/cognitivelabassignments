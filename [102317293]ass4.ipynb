{
  "nbformat": 4,
  "nbformat_minor": 0,
  "metadata": {
    "colab": {
      "provenance": []
    },
    "kernelspec": {
      "name": "python3",
      "display_name": "Python 3"
    },
    "language_info": {
      "name": "python"
    }
  },
  "cells": [
    {
      "cell_type": "code",
      "execution_count": 11,
      "metadata": {
        "colab": {
          "base_uri": "https://localhost:8080/"
        },
        "id": "OVV3Ajo_Fhu9",
        "outputId": "40acdbbf-c5d6-418e-d089-1c3c07fc5a8f"
      },
      "outputs": [
        {
          "output_type": "stream",
          "name": "stdout",
          "text": [
            "Original: [1 2 3 4 5]\n",
            "+2: [3 4 5 6 7]\n",
            "*3: [ 3  6  9 12 15]\n",
            "/2: [0.5 1.  1.5 2.  2.5]\n"
          ]
        }
      ],
      "source": [
        "# Q1: Basic Operations\n",
        "\n",
        "import numpy as np\n",
        "arr = np.array([1, 2, 3, 4, 5])\n",
        "print(\"Original:\", arr)\n",
        "print(\"+2:\", arr + 2)\n",
        "print(\"*3:\", arr * 3)\n",
        "print(\"/2:\", arr / 2)"
      ]
    },
    {
      "cell_type": "code",
      "source": [
        "# Q2: Array Manipulations\n",
        "\n",
        "arr2 = np.array([1, 2, 3, 6, 4, 5])\n",
        "print(\"Reversed:\", arr2[::-1])\n",
        "x = np.array([1,2,3,4,5,1,2,1,1,1])\n",
        "y = np.array([1,1,1,2,3,4,2,4,3,3])\n",
        "most_x = np.bincount(x).argmax()\n",
        "most_y = np.bincount(y).argmax()\n",
        "print(\"Most in x:\", most_x, \"at\", np.where(x == most_x)[0])\n",
        "print(\"Most in y:\", most_y, \"at\", np.where(y == most_y)[0])"
      ],
      "metadata": {
        "colab": {
          "base_uri": "https://localhost:8080/"
        },
        "id": "wD_5SO5MFrsS",
        "outputId": "f6c1f4a7-9bbc-46e1-ad6a-3c03b719a4b7"
      },
      "execution_count": 10,
      "outputs": [
        {
          "output_type": "stream",
          "name": "stdout",
          "text": [
            "Reversed: [5 4 6 3 2 1]\n",
            "Most in x: 1 at [0 5 7 8 9]\n",
            "Most in y: 1 at [0 1 2]\n"
          ]
        }
      ]
    },
    {
      "cell_type": "code",
      "source": [
        "# Q3: 2D Array Indexing\n",
        "\n",
        "arr3 = np.array([[10, 20, 30], [40, 50, 60], [70, 80, 90]])\n",
        "print(\"1st row, 2nd col:\", arr3[0, 1])\n",
        "print(\"3rd row, 1st col:\", arr3[2, 0])"
      ],
      "metadata": {
        "colab": {
          "base_uri": "https://localhost:8080/"
        },
        "id": "wMCWRsztFuDV",
        "outputId": "a4eca2ac-79e5-4504-d716-1c24654da597"
      },
      "execution_count": 9,
      "outputs": [
        {
          "output_type": "stream",
          "name": "stdout",
          "text": [
            "1st row, 2nd col: 20\n",
            "3rd row, 1st col: 70\n"
          ]
        }
      ]
    },
    {
      "cell_type": "code",
      "source": [
        "# Q4: Linspace Array\n",
        "\n",
        "vinayak = np.linspace(10, 100, 25)\n",
        "print(\"Dims:\", vinayak.ndim, \"Shape:\", vinayak.shape, \"Total:\", vinayak.size)\n",
        "print(\"Type:\", vinayak.dtype, \"Bytes:\", vinayak.nbytes)\n",
        "reshaped_vinayak = vinayak.reshape(5, 5)\n",
        "print(\"Reshaped:\", reshaped_vinayak)\n",
        "print(\"Transpose using .T:\", vinayak.T)"
      ],
      "metadata": {
        "colab": {
          "base_uri": "https://localhost:8080/"
        },
        "id": "OzOr5qQoFwUs",
        "outputId": "89c0f557-0c58-403d-9243-72fae543e6b9"
      },
      "execution_count": 8,
      "outputs": [
        {
          "output_type": "stream",
          "name": "stdout",
          "text": [
            "Dims: 1 Shape: (25,) Total: 25\n",
            "Type: float64 Bytes: 200\n",
            "Reshaped: [[ 10.    13.75  17.5   21.25  25.  ]\n",
            " [ 28.75  32.5   36.25  40.    43.75]\n",
            " [ 47.5   51.25  55.    58.75  62.5 ]\n",
            " [ 66.25  70.    73.75  77.5   81.25]\n",
            " [ 85.    88.75  92.5   96.25 100.  ]]\n",
            "Transpose using .T: [ 10.    13.75  17.5   21.25  25.    28.75  32.5   36.25  40.    43.75\n",
            "  47.5   51.25  55.    58.75  62.5   66.25  70.    73.75  77.5   81.25\n",
            "  85.    88.75  92.5   96.25 100.  ]\n"
          ]
        }
      ]
    },
    {
      "cell_type": "code",
      "source": [
        "# Q5: 2D Array Operations\n",
        "\n",
        "ucs420_vinayak = np.array([[10, 20, 30, 40], [50, 60, 70, 80], [90, 15, 20, 35]])\n",
        "print(\"Mean:\", np.mean(ucs420_vinayak), \"Median:\", np.median(ucs420_vinayak))\n",
        "print(\"Max:\", np.max(ucs420_vinayak), \"Min:\", np.min(ucs420_vinayak))\n",
        "print(\"Unique:\", np.unique(ucs420_vinayak))\n",
        "reshaped_ucs420_vinayak = ucs420_vinayak.reshape(4, 3)\n",
        "\n",
        "print(\"Reshaped 4x3:\", reshaped_ucs420_vinayak)\n",
        "\n",
        "resized_ucs420_vinayak = np.resize(ucs420_vinayak, (2, 3))\n",
        "print(\"Resized 2x3:\", resized_ucs420_vinayak)\n"
      ],
      "metadata": {
        "colab": {
          "base_uri": "https://localhost:8080/"
        },
        "id": "pL_67IU8Fy03",
        "outputId": "4fe992a7-4043-4e9e-ace1-5ba648495d9c"
      },
      "execution_count": 7,
      "outputs": [
        {
          "output_type": "stream",
          "name": "stdout",
          "text": [
            "Mean: 43.333333333333336 Median: 37.5\n",
            "Max: 90 Min: 10\n",
            "Unique: [10 15 20 30 35 40 50 60 70 80 90]\n",
            "Reshaped 4x3: [[10 20 30]\n",
            " [40 50 60]\n",
            " [70 80 90]\n",
            " [15 20 35]]\n",
            "Resized 2x3: [[10 20 30]\n",
            " [40 50 60]]\n"
          ]
        }
      ]
    }
  ]
}