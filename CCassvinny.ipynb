{
  "nbformat": 4,
  "nbformat_minor": 0,
  "metadata": {
    "colab": {
      "provenance": []
    },
    "kernelspec": {
      "name": "python3",
      "display_name": "Python 3"
    },
    "language_info": {
      "name": "python"
    }
  },
  "cells": [
    {
      "cell_type": "markdown",
      "source": [
        "Vinayak Bhat [102317293]\n"
      ],
      "metadata": {
        "id": "Nu5ifBBKrP9t"
      }
    },
    {
      "cell_type": "code",
      "execution_count": null,
      "metadata": {
        "id": "KDL3RKPXn0Fz"
      },
      "outputs": [],
      "source": [
        "#Q1\n",
        "import pandas as pd  # importing the pandas library\n",
        "\n",
        "# Reading the CSV file into a DataFrame\n",
        "data = pd.read_csv(\"data_file.csv\")\n",
        "\n",
        "# Printing a custom message for the content of the table\n",
        "print(\"Here is the dataset content:\")\n",
        "print()\n",
        "print(data.to_string())"
      ]
    },
    {
      "cell_type": "code",
      "source": [
        "#Q2\n",
        "import pandas as pd  # importing the pandas library\n",
        "\n",
        "# Reading the CSV file into a DataFrame\n",
        "dataset = pd.read_csv(\"data_file.csv\")\n",
        "\n",
        "# Displaying the dataset content\n",
        "print(\"Here is the content of the dataset:\")\n",
        "print(dataset.to_string())\n",
        "print()\n",
        "\n",
        "# Locating specific rows in the DataFrame\n",
        "\n",
        "print(\"Displaying the 0th row:\")\n",
        "print(dataset.loc[0])\n",
        "print()\n",
        "\n",
        "print(\"Displaying the 4th row:\")\n",
        "print(dataset.loc[4])\n",
        "print()\n",
        "\n",
        "print(\"Displaying the 7th row:\")\n",
        "print(dataset.loc[7])\n",
        "print()\n",
        "\n",
        "print(\"Displaying the 8th row:\")\n",
        "print(dataset.loc[8])\n",
        "print()"
      ],
      "metadata": {
        "id": "S6IMs0g8oGC7"
      },
      "execution_count": null,
      "outputs": []
    },
    {
      "cell_type": "code",
      "source": [
        "#Q3\n",
        "import pandas as pd  # importing the pandas library\n",
        "\n",
        "# Reading the CSV file into a DataFrame\n",
        "data = pd.read_csv(\"data_file.csv\")\n",
        "\n",
        "# Displaying the dataset content\n",
        "print(\"Here is the dataset content:\")\n",
        "print()\n",
        "print(data.to_string())\n",
        "\n",
        "print()\n",
        "\n",
        "# Selecting rows from index 3 to 7\n",
        "print(\"Displaying rows from index 3 to 7:\")\n",
        "print(data.iloc[3:7])\n",
        "print()\n",
        "\n",
        "# Selecting rows from index 4 to 8, and columns 2 to 4\n",
        "print(\"Displaying rows from index 4 to 8, and columns 2 to 4:\")\n",
        "print(data.iloc[4:9, 2:5])\n",
        "print()\n",
        "\n",
        "# Selecting all rows with columns 1 to 3 (inclusive of index 3)\n",
        "print(\"Displaying all rows with columns from index 1 to 3:\")\n",
        "print(data.iloc[:, 1:4])"
      ],
      "metadata": {
        "id": "UjUvS_aVoSdx"
      },
      "execution_count": null,
      "outputs": []
    },
    {
      "cell_type": "code",
      "source": [
        "#Q.4 Read a csv file and display its first five rows.\n",
        "\n",
        "\n",
        "import pandas as pd  # importing the pandas library\n",
        "\n",
        "# Reading the CSV file into a DataFrame\n",
        "dataset = pd.read_csv(\"data_file.csv\")\n",
        "\n",
        "# Displaying the dataset content\n",
        "print(\"Here is the content of the dataset:\")\n",
        "print()\n",
        "print(dataset.to_string())\n",
        "print()\n",
        "\n",
        "# Displaying the first 5 rows of the dataset\n",
        "print(\"Displaying the first 5 rows:\")\n",
        "print()\n",
        "print(dataset.head())"
      ],
      "metadata": {
        "id": "KQB2i3KYonQx"
      },
      "execution_count": null,
      "outputs": []
    },
    {
      "cell_type": "code",
      "source": [
        "#Q5\n",
        "import pandas as pd  # importing the pandas library\n",
        "\n",
        "# Reading the CSV file into a DataFrame\n",
        "data = pd.read_csv(\"data_file.csv\")\n",
        "\n",
        "# Displaying the dataset content\n",
        "print(\"Here is the content of the dataset:\")\n",
        "print()\n",
        "print(data.to_string())\n",
        "print()\n",
        "\n",
        "# Deleting the 4th row (index 4)\n",
        "print(\"After deleting the 4th row:\")\n",
        "print()\n",
        "data.drop(4, axis=0, inplace=True)\n",
        "print(data.to_string())\n",
        "\n",
        "print()\n",
        "\n",
        "# Deleting the 3rd column (index 3)\n",
        "print(\"After deleting the 3rd column:\")\n",
        "print()\n",
        "data.drop(data.columns[3], axis=1, inplace=True)\n",
        "print(data.to_string())"
      ],
      "metadata": {
        "id": "awosKJZ7oyZP"
      },
      "execution_count": null,
      "outputs": []
    },
    {
      "cell_type": "code",
      "source": [
        "#Q6\n",
        "import pandas as pd  # importing the pandas library\n",
        "\n",
        "# Reading the CSV file into a DataFrame\n",
        "employee_data = pd.read_csv(\"employees_data.csv\")\n",
        "\n",
        "# Displaying the content of the dataset\n",
        "print(\"Here is the content of the employee dataset:\")\n",
        "print()\n",
        "print(employee_data.to_string())\n",
        "\n",
        "print()\n",
        "\n",
        "# Getting the shape of the DataFrame (number of rows and columns)\n",
        "num_rows, num_columns = employee_data.shape\n",
        "print(\"The total number of rows in the dataset is:\", num_rows)\n",
        "print(\"The total number of columns in the dataset is:\", num_columns)\n"
      ],
      "metadata": {
        "id": "B4vWt6h8pKoV"
      },
      "execution_count": null,
      "outputs": []
    },
    {
      "cell_type": "code",
      "source": [
        "#b\n",
        "import pandas as pd  # importing the pandas library\n",
        "\n",
        "# Reading the CSV file into a DataFrame\n",
        "employee_data = pd.read_csv(\"employees_data.csv\")\n",
        "\n",
        "# Displaying the content of the employee dataset\n",
        "print(\"Here is the content of the employee dataset:\")\n",
        "print()\n",
        "print(employee_data.to_string())\n",
        "print()\n",
        "\n",
        "# Displaying the summary statistics of the employee dataset\n",
        "print(\"Summary statistics of the employee dataset:\")\n",
        "print()\n",
        "print(employee_data.describe())\n"
      ],
      "metadata": {
        "id": "0Py1uOUJpNMa"
      },
      "execution_count": null,
      "outputs": []
    },
    {
      "cell_type": "code",
      "source": [
        "#c\n",
        "import pandas as pd  # importing the pandas library\n",
        "\n",
        "# Reading the CSV file into a DataFrame\n",
        "emp_data = pd.read_csv(\"employee_data.csv\")\n",
        "\n",
        "# Displaying the content of the employee dataset\n",
        "print(\"Here is the data from the employee dataset:\")\n",
        "print()\n",
        "print(emp_data.to_string())\n",
        "print()\n",
        "\n",
        "# Displaying the descriptive statistics of the employee dataset\n",
        "print(\"Descriptive statistics of the employee dataset:\")\n",
        "print()\n",
        "print(emp_data.describe())"
      ],
      "metadata": {
        "id": "UJq3K0vBpXly"
      },
      "execution_count": null,
      "outputs": []
    },
    {
      "cell_type": "code",
      "source": [
        "#d\n",
        "import pandas as pd  # importing the pandas library\n",
        "\n",
        "# Reading the CSV file into a DataFrame\n",
        "employee_info = pd.read_csv(\"employee_data.csv\")\n",
        "\n",
        "# Displaying the content of the employee dataset\n",
        "print(\"Here is the data from the employee dataset:\")\n",
        "print()\n",
        "print(employee_info.to_string())\n",
        "print()\n",
        "\n",
        "# Displaying the first 5 rows of the employee dataset\n",
        "print(\"Showing the first 5 rows of the employee dataset:\")\n",
        "print()\n",
        "print(employee_info.head(5))\n",
        "print()\n",
        "\n",
        "# Displaying the last 3 rows of the employee dataset\n",
        "print(\"Showing the last 3 rows of the employee dataset:\")\n",
        "print()\n",
        "print(employee_info.tail(3))"
      ],
      "metadata": {
        "id": "iP9t1cjMpsAh"
      },
      "execution_count": null,
      "outputs": []
    },
    {
      "cell_type": "code",
      "source": [
        "#e\n",
        "import pandas as pd  # importing the pandas library\n",
        "\n",
        "# Reading the CSV file into a DataFrame\n",
        "emp_data = pd.read_csv(\"employee_data.csv\")\n",
        "\n",
        "# Displaying the content of the employee dataset\n",
        "print(\"Here is the data from the employee dataset:\")\n",
        "print()\n",
        "print(emp_data.to_string())\n",
        "print()\n",
        "\n",
        "# Calculating statistics based on employee data\n",
        "avg_salary = emp_data[\"Salary\"].mean()\n",
        "total_bonuses = emp_data[\"Bonus\"].sum()\n",
        "youngest_employee_age = emp_data[\"Age\"].min()\n",
        "top_performance_rating = emp_data[\"Rating\"].max()\n",
        "\n",
        "# Displaying the calculated statistics\n",
        "print(\"Average salary of employees: \", avg_salary)\n",
        "print(\"Total bonus paid to all employees: \", total_bonuses)\n",
        "print(\"Youngest employee's age: \", youngest_employee_age)\n",
        "print(\"Highest performance rating: \", top_performance_rating)\n"
      ],
      "metadata": {
        "id": "sStSxbS0ptmT"
      },
      "execution_count": null,
      "outputs": []
    },
    {
      "cell_type": "code",
      "source": [
        "#f\n",
        "import pandas as pd  # importing the pandas library\n",
        "\n",
        "# Reading the CSV file into a DataFrame\n",
        "employee_data = pd.read_csv(\"employee_data.csv\")\n",
        "\n",
        "# Displaying the content of the employee dataset\n",
        "print(\"Here is the content of the employee dataset:\")\n",
        "print()\n",
        "print(employee_data.to_string())\n",
        "print()\n",
        "\n",
        "# Sorting the dataset based on the 'Salary' column in descending order\n",
        "sorted_employee_data\n"
      ],
      "metadata": {
        "id": "GAEpwQ94p4tg"
      },
      "execution_count": null,
      "outputs": []
    },
    {
      "cell_type": "code",
      "source": [
        "#g\n",
        "# Defining the performance rating function\n",
        "def evaluate_performance(rating):\n",
        "    if rating >= 4.5:\n",
        "        return \"Excellent\"\n",
        "    elif 4.0 <= rating < 4.5:\n",
        "        return \"Good\"\n",
        "    else:\n",
        "        return \"Average\"\n",
        "\n",
        "import pandas as pd  # importing the pandas library\n",
        "\n",
        "# Reading the CSV file into a DataFrame\n",
        "employee_info = pd.read_csv(\"employee_data.csv\")\n",
        "\n",
        "# Displaying the content of the employee dataset\n",
        "print(\"Here is the content of the employee dataset:\")\n",
        "print()\n",
        "print(employee_info.to_string())\n",
        "print()\n",
        "\n",
        "# Applying the performance evaluation function to the 'Rating' column\n",
        "employee_info[\"Performance\"] = employee_info[\"Rating\"].apply(evaluate_performance)\n",
        "\n",
        "# Displaying the updated dataset\n",
        "print(\"Here is the updated dataset with performance ratings:\")\n",
        "print(employee_info)\n",
        "\n"
      ],
      "metadata": {
        "id": "GvkEprB2qI34"
      },
      "execution_count": null,
      "outputs": []
    },
    {
      "cell_type": "code",
      "source": [
        "#h\n",
        "import pandas as pd  # importing the pandas library\n",
        "\n",
        "# Reading the CSV file into a DataFrame\n",
        "employee_data = pd.read_csv(\"employee_data.csv\")\n",
        "\n",
        "# Displaying the content of the employee dataset\n",
        "print(\"Here is the content of the employee dataset:\")\n",
        "print()\n",
        "print(employee_data.to_string())\n",
        "print()\n",
        "\n",
        "# Checking for missing values in the dataset\n",
        "missing_values = employee_data.isnull()\n",
        "\n",
        "# Displaying missing values information\n",
        "print(\"The missing values in the dataset are:\")\n",
        "print(missing_values)\n"
      ],
      "metadata": {
        "id": "vucCExvgqXLx"
      },
      "execution_count": null,
      "outputs": []
    },
    {
      "cell_type": "code",
      "source": [
        "#i\n",
        "import pandas as pd  # importing the pandas library\n",
        "\n",
        "# Reading the CSV file into a DataFrame\n",
        "employee_data = pd.read_csv(\"employee_data.csv\")\n",
        "\n",
        "# Displaying the content of the employee dataset\n",
        "print(\"Here is the content of the employee dataset:\")\n",
        "print()\n",
        "print(employee_data.to_string())\n",
        "print()\n",
        "\n",
        "# Renaming the column \"Employee ID\" to \"ID\"\n",
        "employee_data = employee_data.rename(columns={\"Employee ID\": \"ID\"})\n",
        "\n",
        "# Displaying the updated DataFrame\n",
        "print(\"Here is the updated dataset after renaming the column:\")\n",
        "print(employee_data)\n"
      ],
      "metadata": {
        "id": "ifaxPRhFqbaZ"
      },
      "execution_count": null,
      "outputs": []
    },
    {
      "cell_type": "code",
      "source": [
        "#j\n",
        "\n",
        "import pandas as pd  # importing the pandas library\n",
        "\n",
        "# Reading the CSV file into a DataFrame\n",
        "employee_data = pd.read_csv(\"employee_data.csv\")\n",
        "\n",
        "# Displaying the content of the employee dataset\n",
        "print(\"Here is the content of the employee dataset:\")\n",
        "print()\n",
        "print(employee_data.to_string())\n",
        "print()\n",
        "\n",
        "# Filtering employees with more than 5 years of experience\n",
        "experienced_employees = employee_data[employee_data[\"Year_of_experience\"] > 5]\n",
        "\n",
        "# Filtering employees from the IT department\n",
        "it_employees = employee_data[employee_data[\"Department\"] == \"IT\"]\n",
        "\n",
        "# Displaying the filtered data\n",
        "print(\"Employees with more than 5 years of experience:\")\n",
        "print()\n",
        "print(experienced_employees)\n",
        "\n",
        "print(\"Employees from the IT department:\")\n",
        "print()\n",
        "print(it_employees)\n"
      ],
      "metadata": {
        "id": "hGLsX06dqjgn"
      },
      "execution_count": null,
      "outputs": []
    },
    {
      "cell_type": "code",
      "source": [
        "# k) Modify the dataset by adding a new column, Tax, which deducts 10% of the\n",
        "# Salary.\n",
        "\n",
        "\n",
        "\n",
        "import pandas as pd  # importing the pandas library\n",
        "\n",
        "# Reading the CSV file into a DataFrame\n",
        "employee_data = pd.read_csv(\"employee_data.csv\")\n",
        "\n",
        "# Displaying the content of the employee dataset\n",
        "print(\"Here is the content of the employee dataset:\")\n",
        "print()\n",
        "print(employee_data.to_string())\n",
        "print()\n",
        "\n",
        "# Adding a new 'Tax' column based on 10% of the salary\n",
        "employee_data[\"Tax\"] = employee_data[\"Salary\"] * 0.10\n",
        "\n",
        "# Displaying the updated dataset with the 'Tax' column\n",
        "print(\"Here is the updated employee dataset with the 'Tax' column:\")\n",
        "print()\n",
        "print(employee_data.to_string())\n",
        "print()\n"
      ],
      "metadata": {
        "id": "0rwe5USxqsGo"
      },
      "execution_count": null,
      "outputs": []
    },
    {
      "cell_type": "code",
      "source": [
        "#l\n",
        "import pandas as pd  # importing the pandas library\n",
        "\n",
        "# Reading the CSV file into a DataFrame\n",
        "employee_data = pd.read_csv(\"employee_data.csv\")\n",
        "\n",
        "# Displaying the content of the employee dataset\n",
        "print(\"Here is the content of the employee dataset:\")\n",
        "print()\n",
        "print(employee_data.to_string())\n",
        "print()\n",
        "\n",
        "# Specifying the path to save the modified CSV file\n",
        "modified_csv_path = \"modified_employee_data.csv\"\n",
        "\n",
        "# Saving the modified DataFrame to a new CSV file\n",
        "employee_data.to_csv(modified_csv_path, index=False)\n",
        "\n",
        "# Printing the path where the modified CSV is saved\n",
        "print(f\"Modified DataFrame saved to {modified_csv_path}\")\n"
      ],
      "metadata": {
        "id": "OPwPmEwbrGpG"
      },
      "execution_count": null,
      "outputs": []
    }
  ]
}