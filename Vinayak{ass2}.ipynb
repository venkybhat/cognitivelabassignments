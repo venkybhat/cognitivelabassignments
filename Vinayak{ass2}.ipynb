{
  "cells": [
    {
      "cell_type": "markdown",
      "metadata": {
        "id": "UqOminLazFIr"
      },
      "source": [
        "Question 1"
      ]
    },
    {
      "cell_type": "code",
      "execution_count": 4,
      "metadata": {
        "colab": {
          "base_uri": "https://localhost:8080/"
        },
        "id": "pZ541qHJy2Kw",
        "outputId": "7d01cf1c-c9a9-420a-c059-d67243d8e854"
      },
      "outputs": [
        {
          "name": "stdout",
          "output_type": "stream",
          "text": [
            "[10, 20, 30, 40, 50, 60, 70, 80, 200, 300]\n",
            "[20, 40, 50, 60, 70, 80, 200, 300]\n",
            "[20, 40, 50, 60, 70, 80, 200, 300]\n",
            "[300, 200, 80, 70, 60, 50, 40, 20]\n"
          ]
        }
      ],
      "source": [
        "listl= [10,20,30,40,50,60,70,80]\n",
        "#i. WAP to add 200 and 300 to L.\n",
        "listl.append(200)\n",
        "listl.append(300)\n",
        "print(listl)\n",
        "\n",
        "#ii. WAP to remove 10 and 30 from L.\n",
        "listl.remove(10)\n",
        "listl.remove(30)\n",
        "print(listl)\n",
        "\n",
        "#iii. WAP to sort L in ascending order.\n",
        "#iv. WAP to sort L in descending order.\n",
        "listl.sort()\n",
        "print(listl)\n",
        "\n",
        "listl.sort(reverse=True)\n",
        "print(listl)\n",
        "\n",
        "\n"
      ]
    },
    {
      "cell_type": "markdown",
      "metadata": {
        "id": "IxO5HT9g19QP"
      },
      "source": [
        "Question 2"
      ]
    },
    {
      "cell_type": "code",
      "execution_count": 29,
      "metadata": {
        "colab": {
          "base_uri": "https://localhost:8080/"
        },
        "id": "E4wFLhQk2A0V",
        "outputId": "85abee45-a9eb-4628-abde-5ce50e01acf3"
      },
      "outputs": [
        {
          "name": "stdout",
          "output_type": "stream",
          "text": [
            "Highest mark is 92 at index 0\n",
            "Lowest mark is 45 its count is  2\n",
            "Reversed scores as a list: [45, 58, 92, 89, 45.4, 76, 89.5, 45]\n",
            "Mark 76 is present at index 2\n"
          ]
        }
      ],
      "source": [
        "marks= (45, 89.5, 76, 45.4, 89, 92, 58, 45)\n",
        "#i.Identify the highest score and its index in the tuple.\n",
        "hi = marks[0]\n",
        "hi_i = 0\n",
        "\n",
        "for i in range(len(marks)):\n",
        "    if marks[i] > highest:\n",
        "        highest = marks[i]\n",
        "        hi_i = i\n",
        "\n",
        "print(\"Highest mark is\", highest, \"at index\", hi_i)\n",
        "\n",
        "# ii. Find the lowest score and count how many times it appears\n",
        "lo = marks[0]\n",
        "lo_no = 0\n",
        "\n",
        "for mark in marks:\n",
        "     if mark < lo:\n",
        "        lo = mark\n",
        "\n",
        "for score in marks:\n",
        "    if score == lo:\n",
        "        lo_no += 1\n",
        "\n",
        "print(\"Lowest mark is\", lo, \"its count is \", lo_no)\n",
        "\n",
        "# iii. Reverse the tuple and return it as a list\n",
        "rev_l = list(marks[::-1])\n",
        "print(\"Reversed scores as a list:\", rev_l)\n",
        "\n",
        "\n",
        "# iv. Check if a specific score '76' (input by the user) is present in the tuple\n",
        "val = 76\n",
        "if val in marks:\n",
        "    val_idx = marks.index(val)\n",
        "    print(\"Mark\", val, \"is present at index\", val_idx)\n",
        "else:\n",
        "    print(\"Mark not present in the tuple.\")"
      ]
    },
    {
      "cell_type": "markdown",
      "metadata": {
        "id": "cinjxvrBAXnA"
      },
      "source": [
        "Question 3"
      ]
    },
    {
      "cell_type": "code",
      "execution_count": 47,
      "metadata": {
        "colab": {
          "base_uri": "https://localhost:8080/"
        },
        "id": "LwGoYVSvAZZ3",
        "outputId": "989645fa-abe4-4c28-e3f1-416394553e8d"
      },
      "outputs": [
        {
          "name": "stdout",
          "output_type": "stream",
          "text": [
            "[539, 499, 672, 107, 195, 178, 617, 875, 732, 728, 179, 538, 302, 728, 726, 547, 686, 899, 190, 572, 308, 170, 318, 594, 521, 259, 284, 483, 456, 209, 441, 370, 837, 174, 474, 641, 259, 300, 431, 723, 712, 528, 582, 329, 613, 545, 111, 770, 527, 789, 806, 201, 664, 732, 573, 194, 557, 312, 486, 830, 207, 320, 856, 499, 837, 833, 280, 184, 796, 164, 523, 125, 324, 836, 858, 226, 203, 692, 583, 563, 625, 289, 788, 689, 279, 879, 854, 697, 791, 389, 252, 635, 551, 724, 160, 470, 870, 124, 476, 519]\n",
            "Odd Numbers: [539, 499, 107, 195, 617, 875, 179, 547, 899, 521, 259, 483, 209, 441, 837, 641, 259, 431, 723, 329, 613, 545, 111, 527, 789, 201, 573, 557, 207, 499, 837, 833, 523, 125, 203, 583, 563, 625, 289, 689, 279, 879, 697, 791, 389, 635, 551, 519]\n",
            "Even Numbers: [672, 178, 732, 728, 538, 302, 728, 726, 686, 190, 572, 308, 170, 318, 594, 284, 456, 370, 174, 474, 300, 712, 528, 582, 770, 806, 664, 732, 194, 312, 486, 830, 320, 856, 280, 184, 796, 164, 324, 836, 858, 226, 692, 788, 854, 252, 724, 160, 470, 870, 124, 476]\n",
            "Prime Numbers: [499, 107, 617, 179, 547, 521, 641, 431, 613, 557, 499, 523, 563, 389]\n",
            "Count of Odd Numbers: 48\n",
            "Count of Even Numbers: 52\n",
            "Count of Prime Numbers: 14\n"
          ]
        }
      ],
      "source": [
        "#WAP to create a list of 100 random numbers between 100 and 900. Count and print\n",
        "#all odd numbers , even and prime numbers :\n",
        "import random\n",
        "number = [random.randint(100, 900) for i in range(100)]\n",
        "print(number)\n",
        "\n",
        "odd_no = []\n",
        "eve_no = []\n",
        "pr_no = []\n",
        "\n",
        "def is_prime(n):\n",
        "    if (n <= 1):\n",
        "        return False\n",
        "    for i in range(2, int(n**0.5) + 1):\n",
        "        if n % i == 0:\n",
        "            return False\n",
        "    return True\n",
        "\n",
        "\n",
        "for num in number:\n",
        "    if num % 2 == 0:\n",
        "        eve_no.append(num)\n",
        "    else:\n",
        "        odd_no.append(num)\n",
        "\n",
        "    if is_prime(num):\n",
        "        pr_no.append(num)\n",
        "\n",
        "print(\"Odd Numbers:\",odd_no )\n",
        "print(\"Even Numbers:\", eve_no)\n",
        "print(\"Prime Numbers:\", pr_no)\n",
        "print(\"Count of Odd Numbers:\", len(odd_no))\n",
        "print(\"Count of Even Numbers:\", len(eve_no))\n",
        "print(\"Count of Prime Numbers:\", len(pr_no))\n",
        "\n"
      ]
    },
    {
      "cell_type": "markdown",
      "metadata": {
        "id": "AdtbFxTaFTTS"
      },
      "source": [
        "Question 4"
      ]
    },
    {
      "cell_type": "code",
      "execution_count": 49,
      "metadata": {
        "colab": {
          "base_uri": "https://localhost:8080/"
        },
        "id": "JL_aZqmMFVNo",
        "outputId": "808f7fc5-af7b-473b-bc4d-b5d0e157a904"
      },
      "outputs": [
        {
          "name": "stdout",
          "output_type": "stream",
          "text": [
            "Unique scores  {34, 45, 78, 23, 56, 90}\n",
            "Common scores  {90, 78}\n",
            "Exclusive scores  {34, 45, 23, 56}\n",
            "Is Team A's scores a subset of Team B? False\n",
            "Is Team B's scores a superset of Team A? False\n",
            "Enter a score to remove from Team A: 90\n",
            "Score removed from Team A. Updated Team A scores: {56, 34, 78}\n"
          ]
        }
      ],
      "source": [
        "A = {34, 56, 78, 90}\n",
        "B = {78, 45, 90, 23}\n",
        "\n",
        "# i. Find the unique scores achieved by both teams (union of sets)\n",
        "uni = A.union(B)\n",
        "print(\"Unique scores \", uni)\n",
        "\n",
        "# ii. Identify the scores common to both teams (intersection of sets)\n",
        "com = A.intersection(B)\n",
        "print(\"Common scores \", com)\n",
        "\n",
        "# iii. Find the scores exclusive to each team (symmetric difference)\n",
        "exc = A.symmetric_difference(B)\n",
        "print(\"Exclusive scores \", exc)\n",
        "\n",
        "# iv. Check if scores of team A are a subset of team B and if team B is a superset of team A\n",
        "set_b= A.issubset(B)\n",
        "set_a= B.issuperset(A)\n",
        "print(\"Is Team A's scores a subset of Team B?\", set_b)\n",
        "print(\"Is Team B's scores a superset of Team A?\", set_a)\n",
        "\n",
        "# v. Remove a specific score from Team A if it exists\n",
        "val = int(input(\"Enter a score to remove from Team A: \"))\n",
        "if val in A:\n",
        "    A.remove(val)\n",
        "    print(\"Score removed from Team A. Updated Team A scores:\", A)\n",
        "else:\n",
        "    print(\"Score  not present \")"
      ]
    },
    {
      "cell_type": "markdown",
      "metadata": {
        "id": "-QuHSfbYGxD3"
      },
      "source": [
        "Question 5\n"
      ]
    },
    {
      "cell_type": "code",
      "execution_count": 51,
      "metadata": {
        "colab": {
          "base_uri": "https://localhost:8080/"
        },
        "id": "cQVShepyGxTf",
        "outputId": "486e3793-2187-42d6-f7b6-f96f707952e6"
      },
      "outputs": [
        {
          "name": "stdout",
          "output_type": "stream",
          "text": [
            "{'Name': 'Vinayak', 'Age': 19, 'City ': 'Jammu', 'Branch': 'COPC', 'Gender': 'Male', 'City': 'New York'}\n"
          ]
        }
      ],
      "source": [
        "Student={\n",
        "      \"Name\": \"Vinayak\",\n",
        "       \"Age\" : 19 ,\n",
        "       \"City \": \"Jammu\",\n",
        "       \"Branch\" : \"COPC\",\n",
        "       \"Gender\" : \"Male\",\n",
        "}\n",
        "Student[\"City\"]=\"New York\"\n",
        "print(Student)\n"
      ]
    }
  ],
  "metadata": {
    "colab": {
      "provenance": []
    },
    "kernelspec": {
      "display_name": "Python 3",
      "name": "python3"
    },
    "language_info": {
      "name": "python"
    }
  },
  "nbformat": 4,
  "nbformat_minor": 0
}
