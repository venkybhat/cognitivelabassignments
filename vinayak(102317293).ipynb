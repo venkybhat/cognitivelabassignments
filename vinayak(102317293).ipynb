{
  "nbformat": 4,
  "nbformat_minor": 0,
  "metadata": {
    "colab": {
      "provenance": []
    },
    "kernelspec": {
      "name": "python3",
      "display_name": "Python 3"
    },
    "language_info": {
      "name": "python"
    }
  },
  "cells": [
    {
      "cell_type": "markdown",
      "source": [
        "Assingment 1.1: WAP to print your name three times"
      ],
      "metadata": {
        "id": "CdGt6dbBgxYx"
      }
    },
    {
      "cell_type": "code",
      "execution_count": null,
      "metadata": {
        "colab": {
          "base_uri": "https://localhost:8080/"
        },
        "id": "itZ6WyBCgtaC",
        "outputId": "fcd498d1-d87a-4f7c-8663-cab68a1ca9ff"
      },
      "outputs": [
        {
          "output_type": "stream",
          "name": "stdout",
          "text": [
            "Vinayak Bhat\n",
            "Vinayak Bhat\n",
            "Vinayak Bhat\n"
          ]
        }
      ],
      "source": [
        "for i in range(1,4):\n",
        "  print(\"Vinayak Bhat\")"
      ]
    },
    {
      "cell_type": "markdown",
      "source": [
        "Assingment 2.1: WAP to add three numbers and print the result.\n",
        "\n",
        "Assingment 2.2: WAP to concatinate three strings and print the result."
      ],
      "metadata": {
        "id": "W2AkhmF2gx51"
      }
    },
    {
      "cell_type": "code",
      "source": [
        "a=int(input(\"Enter 1st no\"))\n",
        "b=int(input(\"Enter 2nd no\"))\n",
        "c=int(input(\"Enter 3rd no\"))\n",
        "\n",
        "print(\"Sum of 3 numbers is : \" ,a+b+c)\n",
        "\n",
        "\n",
        "d=input(\"Enter 1st string\")\n",
        "e=input(\"Enter 2nd string\")\n",
        "f=input(\"Enter 3rd string\")\n",
        "\n",
        "print(\"The 3 strings combined are : \" ,d+e+f)"
      ],
      "metadata": {
        "colab": {
          "base_uri": "https://localhost:8080/"
        },
        "id": "nwNhxcI3iG3Q",
        "outputId": "579ba45d-1888-48f0-b774-685e5937a4c0"
      },
      "execution_count": null,
      "outputs": [
        {
          "output_type": "stream",
          "name": "stdout",
          "text": [
            "Enter 1st no5\n",
            "Enter 2nd no6\n",
            "Enter 3rd no7\n",
            "Sum of 3 numbers is :  18\n",
            "Enter 1st stringvinayak\n",
            "Enter 2nd stringbhat\n",
            "Enter 3rd stringraina\n",
            "The 3 strings combined are :  vinayakbhatraina\n"
          ]
        }
      ]
    },
    {
      "cell_type": "markdown",
      "source": [
        "Assingment 4.1: WAP to print the table of 7, 9.\n",
        "\n",
        "Assingment 4.2: WAP to print the table of n and n is given by user.\n",
        "\n",
        "Assingment 4.3: WAP to add all the numbers from 1 to n and n is given by user."
      ],
      "metadata": {
        "id": "HXqcDHVAgyNW"
      }
    },
    {
      "cell_type": "code",
      "source": [
        "for i in range(0,11):\n",
        "  print(f\"7 x {i}={7*i}\")\n",
        "\n",
        "print(\"  \")\n",
        "for i in range(0,11):\n",
        "  print(f\"9 x {i}={9*i}\")\n",
        "\n",
        "\n",
        "print(\"  \")\n",
        "\n",
        "n=int(input(\"Enter n:\"))\n",
        "for i in range(0,11):\n",
        "  print(f\"{n} x {i}={n*i}\")\n",
        "\n",
        "print(\"   \")\n",
        "\n",
        "n=int(input(\"Enter n:\"))\n",
        "totsum=0\n",
        "for i in range(1,n+1):\n",
        "  totsum+=i\n",
        "print(totsum)\n",
        "\n",
        "\n"
      ],
      "metadata": {
        "colab": {
          "base_uri": "https://localhost:8080/"
        },
        "id": "VqES4dqXgxup",
        "outputId": "26bf6ce5-4a0b-4ff2-f136-bc3905bafca6"
      },
      "execution_count": null,
      "outputs": [
        {
          "output_type": "stream",
          "name": "stdout",
          "text": [
            "7 x 0=0\n",
            "7 x 1=7\n",
            "7 x 2=14\n",
            "7 x 3=21\n",
            "7 x 4=28\n",
            "7 x 5=35\n",
            "7 x 6=42\n",
            "7 x 7=49\n",
            "7 x 8=56\n",
            "7 x 9=63\n",
            "7 x 10=70\n",
            "  \n",
            "9 x 0=0\n",
            "9 x 1=9\n",
            "9 x 2=18\n",
            "9 x 3=27\n",
            "9 x 4=36\n",
            "9 x 5=45\n",
            "9 x 6=54\n",
            "9 x 7=63\n",
            "9 x 8=72\n",
            "9 x 9=81\n",
            "9 x 10=90\n",
            "  \n",
            "Enter n:3\n",
            "3 x 0=0\n",
            "3 x 1=3\n",
            "3 x 2=6\n",
            "3 x 3=9\n",
            "3 x 4=12\n",
            "3 x 5=15\n",
            "3 x 6=18\n",
            "3 x 7=21\n",
            "3 x 8=24\n",
            "3 x 9=27\n",
            "3 x 10=30\n",
            "   \n",
            "Enter n:4\n",
            "10\n"
          ]
        }
      ]
    },
    {
      "cell_type": "markdown",
      "source": [
        "Assingment 5.1: WAP to find max amoung three numbers and input from user.\n",
        "\n",
        "Assingment 5.2: WAP to add all numbers divisible by 7 and 9 from 1 to n and n is given by the user.\n",
        "\n",
        "Assingment 5.3: WAP to add all prime numbers from 1 to n and n is given by the user.\n"
      ],
      "metadata": {
        "id": "XFdSY9O4gybb"
      }
    },
    {
      "cell_type": "code",
      "source": [
        "\n",
        "n1=int(input(\"Enter 1st no :\"))\n",
        "n2=int(input(\"Enter 2nd no:\"))\n",
        "n3=int(input(\"Enter 3rd no :\"))\n",
        "'''\n",
        "if(num1>num2 and num1>num3):\n",
        "  print(\"The Maximum number is no 1st one\")\n",
        "elif(num2>num1 and num2>num3):\n",
        "  print(\"The Maximum number is no 2nd one\")\n",
        "else:\n",
        "  print(\"The Maximum number is no 3rd one\")\n",
        "'''\n",
        "sol=max(n1,n2,n3)\n",
        "print(sol)\n",
        "\n",
        "\n",
        "\n",
        "print(\" \")\n",
        "\n",
        "n=int(input('enter a no'))\n",
        "tot=0\n",
        "for i in range(1,n+1):\n",
        "  if i%7==0 and i%9==0:\n",
        "    tot=i\n",
        "print(tot)\n",
        "\n",
        "print(\" \")\n",
        "\n",
        "\n",
        "\n",
        "n=int(input(\"Enter a number\"))\n",
        "totsum=0\n",
        "for i in range(2,n+1):\n",
        "  flag=True\n",
        "  for j in range(2,i):\n",
        "    if i%j==0:\n",
        "      flag=False\n",
        "  if flag:\n",
        "    totsum+=i\n",
        "print(\"Sum of primes is \",totsum)\n",
        "\n",
        "\n"
      ],
      "metadata": {
        "colab": {
          "base_uri": "https://localhost:8080/"
        },
        "id": "UDpSCRKHgyFS",
        "outputId": "5b11aab3-ee18-4546-b76e-3e9d286a2463"
      },
      "execution_count": null,
      "outputs": [
        {
          "output_type": "stream",
          "name": "stdout",
          "text": [
            "Enter 1st no :34\n",
            "Enter 2nd no:56\n",
            "Enter 3rd no :98\n",
            "98\n",
            " \n",
            "enter a no100\n",
            "63\n",
            " \n",
            "Enter a number13\n",
            "Sum of primes is  41\n"
          ]
        }
      ]
    },
    {
      "cell_type": "markdown",
      "source": [
        "Assingment 6.1: WAP using function that add all odd numbers from 1 to n, n is given by the user.\n",
        "\n",
        "Assingment 6.2: WAP using function that add all prime numbers from 1 to n, n given by the user.\n",
        "\n",
        "\n"
      ],
      "metadata": {
        "id": "_BDrI8Bvgyna"
      }
    },
    {
      "cell_type": "code",
      "source": [
        "def Addoddnos(n):\n",
        "  s=0\n",
        "  for i in range(1,n+1):\n",
        "    if i%2!=0:\n",
        "      s+=i\n",
        "  return s\n",
        "n=int(input('Enter a number'))\n",
        "print(\"The sum of all odd numbers is :\", Addoddnos(n))\n",
        "\n",
        "\n",
        "\n",
        "print(\" \")\n",
        "\n",
        "\n",
        "def Addevennos(n):\n",
        "  s=0\n",
        "  for i in range(2,n+1):\n",
        "    flag=True\n",
        "    for j in range(2,i):\n",
        "     if i%j==0:\n",
        "      flag=False\n",
        "    if flag:\n",
        "      s+=i\n",
        "  return s\n",
        "n=int(input('Enter a number'))\n",
        "print(\"The  sum of all primes is :\",Addevennos(n))\n",
        "\n",
        "\n"
      ],
      "metadata": {
        "colab": {
          "base_uri": "https://localhost:8080/"
        },
        "id": "PmlH1qFpgyU6",
        "outputId": "485c0e13-b99d-4e08-a719-c33f667227f6"
      },
      "execution_count": null,
      "outputs": [
        {
          "output_type": "stream",
          "name": "stdout",
          "text": [
            "Enter a number12\n",
            "The sum of all odd numbers is : 36\n",
            " \n",
            "Enter a number10\n",
            "The  sum of all primes is : 17\n"
          ]
        }
      ]
    }
  ]
}